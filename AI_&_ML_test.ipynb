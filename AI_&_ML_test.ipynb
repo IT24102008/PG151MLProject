{
  "cells": [
    {
      "cell_type": "markdown",
      "metadata": {
        "id": "f5693360"
      },
      "source": [
        "## Saving Training and Testing Sets\n",
        "\n",
        "This section saves the split training and testing sets into separate CSV files."
      ]
    },
    {
      "cell_type": "code",
      "execution_count": null,
      "metadata": {
        "colab": {
          "base_uri": "https://localhost:8080/"
        },
        "id": "d471fb1d",
        "outputId": "2166ae6d-3dfe-4121-9c26-bfc38717582c"
      },
      "outputs": [
        {
          "name": "stdout",
          "output_type": "stream",
          "text": [
            "\n",
            "Training features saved as 'X_train.csv'\n",
            "Training target saved as 'y_train.csv'\n",
            "Testing features saved as 'X_test.csv'\n",
            "Testing target saved as 'y_test.csv'\n"
          ]
        }
      ],
      "source": [
        "# Save the training sets to CSV files\n",
        "X_train.to_csv('X_train.csv', index=False)\n",
        "y_train.to_csv('y_train.csv', index=False)\n",
        "\n",
        "# Save the testing sets to CSV files\n",
        "X_test.to_csv('X_test.csv', index=False)\n",
        "y_test.to_csv('y_test.csv', index=False)\n",
        "\n",
        "print(\"\\nTraining features saved as 'X_train.csv'\")\n",
        "print(\"Training target saved as 'y_train.csv'\")\n",
        "print(\"Testing features saved as 'X_test.csv'\")\n",
        "print(\"Testing target saved as 'y_test.csv'\")"
      ]
    },
    {
      "cell_type": "code",
      "execution_count": null,
      "metadata": {
        "colab": {
          "base_uri": "https://localhost:8080/"
        },
        "id": "2d8c4b60",
        "outputId": "3f616454-d076-4204-ae6f-2f34ae1fc155"
      },
      "outputs": [
        {
          "name": "stdout",
          "output_type": "stream",
          "text": [
            "Processed dataset saved as 'stroke_processed_pca.csv'\n"
          ]
        }
      ],
      "source": [
        "# Save the final processed DataFrame to a CSV file\n",
        "df_final_pca.to_csv('stroke_processed_pca.csv', index=False)\n",
        "\n",
        "print(\"Processed dataset saved as 'stroke_processed_pca.csv'\")"
      ]
    },
    {
      "cell_type": "code",
      "execution_count": null,
      "metadata": {
        "colab": {
          "base_uri": "https://localhost:8080/"
        },
        "id": "cebf6170",
        "outputId": "dd08ded1-474d-4ba6-f012-91cb33c26d70"
      },
      "outputs": [
        {
          "name": "stdout",
          "output_type": "stream",
          "text": [
            "Folder 'Processed' already exists.\n",
            "Moved 'stroke_processed_pca.csv' to 'Processed'\n",
            "Moved 'X_train.csv' to 'Processed'\n",
            "Moved 'y_train.csv' to 'Processed'\n",
            "Moved 'X_test.csv' to 'Processed'\n",
            "Moved 'y_test.csv' to 'Processed'\n"
          ]
        }
      ],
      "source": [
        "import os\n",
        "import shutil\n",
        "\n",
        "# Define the name of the new folder\n",
        "output_folder = 'Processed'\n",
        "\n",
        "# Create the new folder if it doesn't exist\n",
        "if not os.path.exists(output_folder):\n",
        "    os.makedirs(output_folder)\n",
        "    print(f\"Created folder: {output_folder}\")\n",
        "else:\n",
        "    print(f\"Folder '{output_folder}' already exists.\")\n",
        "\n",
        "# Define the list of files to move\n",
        "files_to_move = ['stroke_processed_pca.csv', 'X_train.csv', 'y_train.csv', 'X_test.csv', 'y_test.csv']\n",
        "\n",
        "# Move each file to the new folder\n",
        "for file_name in files_to_move:\n",
        "    if os.path.exists(file_name):\n",
        "        shutil.move(file_name, os.path.join(output_folder, file_name))\n",
        "        print(f\"Moved '{file_name}' to '{output_folder}'\")\n",
        "    else:\n",
        "        print(f\"File '{file_name}' not found.\")"
      ]
    },
    {
      "cell_type": "markdown",
      "metadata": {
        "id": "8b48f6d9"
      },
      "source": [
        "## Summary:\n",
        "\n",
        "### Data Analysis Key Findings\n",
        "\n",
        "*   The dataset initially contained 201 missing values in the 'bmi' column, which were successfully imputed with the mean value of approximately 28.89.\n",
        "*   Categorical variables ('gender', 'ever\\_married', 'work\\_type', 'Residence\\_type', 'smoking\\_status') were successfully encoded using one-hot encoding, resulting in the creation of new binary columns.\n",
        "*   Outliers were identified and handled in the 'avg\\_glucose\\_level' and 'bmi' columns using the IQR method, capping extreme values. 627 outliers were capped in 'avg\\_glucose\\_level' and 126 in 'bmi'.\n",
        "*   Numerical features ('id', 'age', 'avg\\_glucose\\_level', 'bmi') were scaled using `StandardScaler`, resulting in features with means close to 0 and standard deviations close to 1.\n",
        "*   Feature selection using a RandomForestClassifier identified 'age', 'bmi', and 'avg\\_glucose\\_level' as the most important features, and a total of 13 features were selected based on an importance threshold of 0.01.\n",
        "*   Principal Component Analysis (PCA) was applied to the 13 selected features, and it was determined that 10 principal components retain at least 95% of the data's variance, successfully reducing the dimensionality from 13 to 10.\n",
        "\n",
        "\n"
      ]
    },
    {
      "cell_type": "markdown",
      "metadata": {
        "id": "-QnDGuO8P3F0"
      },
      "source": [
        "# **This code is to delete The processed data when troubleshooting**"
      ]
    },
    {
      "cell_type": "code",
      "execution_count": null,
      "metadata": {
        "colab": {
          "base_uri": "https://localhost:8080/"
        },
        "id": "228ced55",
        "outputId": "ec80e473-dc79-4c19-808c-9baeabd57b6f"
      },
      "outputs": [
        {
          "name": "stdout",
          "output_type": "stream",
          "text": [
            "All files and subfolders in '/content/Delete Stuff' have been deleted.\n"
          ]
        }
      ],
      "source": [
        "# import os\n",
        "# import shutil\n",
        "\n",
        "# folder_path = '/content/Delete Stuff'\n",
        "\n",
        "# # Check if the folder exists\n",
        "# if os.path.exists(folder_path):\n",
        "#     # List all items in the folder\n",
        "#     for item in os.listdir(folder_path):\n",
        "#         item_path = os.path.join(folder_path, item)\n",
        "#         # Check if it's a file and remove it\n",
        "#         if os.path.isfile(item_path):\n",
        "#             os.remove(item_path)\n",
        "#             print(f\"Deleted file: {item_path}\")\n",
        "#         # Check if it's a directory and remove it recursively\n",
        "#         elif os.path.isdir(item_path):\n",
        "#             shutil.rmtree(item_path)\n",
        "#             print(f\"Deleted directory: {item_path}\")\n",
        "#     print(f\"All files and subfolders in '{folder_path}' have been deleted.\")\n",
        "# else:\n",
        "#     print(f\"Folder '{folder_path}' does not exist.\")"
      ]
    }
  ],
  "metadata": {
    "colab": {
      "provenance": []
    },
    "kernelspec": {
      "display_name": "Python 3",
      "name": "python3"
    },
    "language_info": {
      "name": "python"
    }
  },
  "nbformat": 4,
  "nbformat_minor": 0
}
