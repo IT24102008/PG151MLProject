{
 "cells": [
  {
   "cell_type": "code",
   "execution_count": null,
   "metadata": {},
   "outputs": [],
   "source": [
    "import pandas as pd\n",
    "import seaborn as sns\n",
    "import matplotlib.pyplot as plt\n",
    "from sklearn.preprocessing import StandardScaler\n",
    "\n",
    "# Load data\n",
    "df = pd.read_csv('/content/data/raw/StrokeData.csv')\n",
    "df['bmi'].fillna(df['bmi'].median(), inplace=True)  # Group task placeholder\n",
    "\n",
    "# Identify numerical columns for scaling\n",
    "numerical_cols = ['age', 'avg_glucose_level', 'bmi']\n",
    "\n",
    "# Visualize before scaling\n",
    "plt.figure(figsize=(12, 4))\n",
    "for i, col in enumerate(numerical_cols):\n",
    "    plt.subplot(1, 3, i+1)\n",
    "    sns.histplot(df[col], kde=True)\n",
    "    plt.title(f'Distribution of {col} before scaling')\n",
    "plt.tight_layout()\n",
    "plt.savefig('/content/results/eda_visualizations/before_scaling_dist.png')\n",
    "plt.show()\n",
    "\n",
    "# Apply StandardScaler\n",
    "scaler = StandardScaler()\n",
    "df[numerical_cols] = scaler.fit_transform(df[numerical_cols])\n",
    "\n",
    "# Display statistics\n",
    "print(\"Descriptive statistics after scaling:\")\n",
    "display(df[numerical_cols].describe())\n",
    "\n",
    "# Visualize after scaling\n",
    "plt.figure(figsize=(12, 4))\n",
    "for i, col in enumerate(numerical_cols):\n",
    "    plt.subplot(1, 3, i+1)\n",
    "    sns.histplot(df[col], kde=True)\n",
    "    plt.title(f'Distribution of {col} after scaling')\n",
    "plt.tight_layout()\n",
    "plt.savefig('/content/results/eda_visualizations/after_scaling_dist.png')\n",
    "plt.show()\n",
    "\n",
    "# Interpretation\n",
    "print(\"Interpretation: Scaling centers data (mean ~0, std ~1), aiding algorithms like SVM, with age distribution showing stroke risk above 0.5 SD.\")\n"
   ]
  }
 ],
 "metadata": {
  "kernelspec": {
   "display_name": "Python 3",
   "language": "python",
   "name": "python3"
  },
  "language_info": {
   "codemirror_mode": {
    "name": "ipython",
    "version": 3
   },
   "file_extension": ".py",
   "mimetype": "text/x-python",
   "name": "python",
   "nbconvert_exporter": "python",
   "pygments_lexer": "ipython3",
   "version": "3.8"
  }
 },
 "nbformat": 4,
 "nbformat_minor": 2
}
