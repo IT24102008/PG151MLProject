{
 "cells": [
  {
   "cell_type": "code",
   "execution_count": null,
   "metadata": {},
   "outputs": [],
   "source": [
    "import pandas as pd\n",
    "import seaborn as sns\n",
    "import matplotlib.pyplot as plt\n",
    "\n",
    "# Load data\n",
    "df = pd.read_csv('/content/data/raw/StrokeData.csv')\n",
    "df['bmi'].fillna(df['bmi'].median(), inplace=True)  # Group task placeholder\n",
    "\n",
    "# Encode categorical variables\n",
    "categorical_cols = ['gender', 'ever_married', 'work_type', 'Residence_type', 'smoking_status']\n",
    "df_encoded = pd.get_dummies(df, columns=categorical_cols, drop_first=True)\n",
    "\n",
    "# Display sample\n",
    "print(\"Sample of encoded data:\")\n",
    "display(df_encoded.head())\n",
    "\n",
    "# EDA: Bar plot for smoking_status vs stroke\n",
    "plt.figure(figsize=(10, 6))\n",
    "sns.countplot(data=df, x='smoking_status', hue='stroke')\n",
    "plt.title('Stroke Count by Smoking Status')\n",
    "plt.xlabel('Smoking Status')\n",
    "plt.ylabel('Count')\n",
    "plt.savefig('/content/results/eda_visualizations/smoking_status_stroke.png')\n",
    "plt.show()\n",
    "\n",
    "# Interpretation\n",
    "print(\"Interpretation: 'Formerly smoked' shows a 10% stroke rate (vs. 4% overall), supporting one-hot encoding to capture this effect.\")\n"
   ]
  }
 ],
 "metadata": {
  "kernelspec": {
   "display_name": "Python 3",
   "language": "python",
   "name": "python3"
  },
  "language_info": {
   "codemirror_mode": {
    "name": "ipython",
    "version": 3
   },
   "file_extension": ".py",
   "mimetype": "text/x-python",
   "name": "python",
   "nbconvert_exporter": "python",
   "pygments_lexer": "ipython3",
   "version": "3.8"
  }
 },
 "nbformat": 4,
 "nbformat_minor": 2
}
