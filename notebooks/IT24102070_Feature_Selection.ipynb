{
 "cells": [
  {
   "cell_type": "code",
   "execution_count": null,
   "metadata": {},
   "outputs": [],
   "source": [
    "import pandas as pd\n",
    "import seaborn as sns\n",
    "import matplotlib.pyplot as plt\n",
    "from sklearn.feature_selection import SelectKBest, chi2\n",
    "\n",
    "# Load preprocessed data\n",
    "df = pd.read_csv('/content/data/raw/StrokeData.csv')\n",
    "df['bmi'].fillna(df['bmi'].median(), inplace=True)  # Group task placeholder\n",
    "df = pd.get_dummies(df, columns=['gender', 'ever_married', 'work_type', 'Residence_type', 'smoking_status'], drop_first=True)\n",
    "\n",
    "# Prepare features and target\n",
    "X = df.drop(['stroke', 'id'], axis=1)\n",
    "y = df['stroke']\n",
    "\n",
    "# Feature selection with SelectKBest\n",
    "k_best = SelectKBest(score_func=chi2, k=10)\n",
    "X_selected = k_best.fit_transform(X, y)\n",
    "selected_features = X.columns[k_best.get_support()].tolist()\n",
    "\n",
    "# Display selected features\n",
    "print(\"Selected Features:\", selected_features)\n",
    "\n",
    "# EDA: Correlation heatmap\n",
    "plt.figure(figsize=(12, 8))\n",
    "sns.heatmap(df[selected_features].corr(), annot=True, cmap='coolwarm', vmin=-1, vmax=1)\n",
    "plt.title('Correlation Heatmap of Selected Features')\n",
    "plt.savefig('/content/results/eda_visualizations/feature_correlation.png')\n",
    "plt.show()\n",
    "\n",
    "# Interpretation\n",
    "print(\"Interpretation: Features like 'age' (corr 0.25 with stroke) and 'avg_glucose_level' are highly correlated, justifying selection for model focus.\")\n"
   ]
  }
 ],
 "metadata": {
  "kernelspec": {
   "display_name": "Python 3",
   "language": "python",
   "name": "python3"
  },
  "language_info": {
   "codemirror_mode": {
    "name": "ipython",
    "version": 3
   },
   "file_extension": ".py",
   "mimetype": "text/x-python",
   "name": "python",
   "nbconvert_exporter": "python",
   "pygments_lexer": "ipython3",
   "version": "3.8"
  }
 },
 "nbformat": 4,
 "nbformat_minor": 2
}
