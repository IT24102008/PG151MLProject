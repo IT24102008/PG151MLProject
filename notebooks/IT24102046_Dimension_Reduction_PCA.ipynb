{
 "cells": [
  {
   "cell_type": "code",
   "execution_count": null,
   "metadata": {},
   "outputs": [],
   "source": [
    "import pandas as pd\n",
    "import numpy as np\n",
    "import matplotlib.pyplot as plt\n",
    "from sklearn.decomposition import PCA\n",
    "\n",
    "# Load preprocessed data (post other steps)\n",
    "df = pd.read_csv('/content/data/raw/StrokeData.csv')\n",
    "df['bmi'].fillna(df['bmi'].median(), inplace=True)  # Group task placeholder\n",
    "df = pd.get_dummies(df, columns=['gender', 'ever_married', 'work_type', 'Residence_type', 'smoking_status'], drop_first=True)\n",
    "\n",
    "# Assume outlier removal, scaling, and selection done earlier\n",
    "# Placeholder for Member 5's feature selection output\n",
    "selected_features = ['age', 'avg_glucose_level', 'bmi', 'gender_Male', 'ever_married_Yes']  # Example; replace with actual selected features\n",
    "X = df[selected_features]\n",
    "y = df['stroke']\n",
    "\n",
    "# Apply PCA to analyze variance\n",
    "pca = PCA()\n",
    "pca.fit(X)\n",
    "cumulative_variance = np.cumsum(pca.explained_variance_ratio_)\n",
    "\n",
    "# Plot explained variance\n",
    "plt.figure(figsize=(10, 6))\n",
    "plt.plot(range(1, len(cumulative_variance) + 1), cumulative_variance, marker='o', linestyle='-')\n",
    "plt.title('Cumulative Explained Variance Ratio by PCA Components')\n",
    "plt.xlabel('Number of Components')\n",
    "plt.ylabel('Cumulative Explained Variance Ratio')\n",
    "plt.axhline(y=0.95, color='r', linestyle='--', label='95% Variance')\n",
    "plt.legend()\n",
    "plt.grid(True)\n",
    "plt.savefig('/content/results/eda_visualizations/pca_variance.png')\n",
    "plt.show()\n",
    "\n",
    "# Determine optimal components (95% variance)\n",
    "n_components = np.argmax(cumulative_variance >= 0.95) + 1\n",
    "print(f\"Optimal number of components to retain 95% variance: {n_components}\")\n",
    "\n",
    "# Apply PCA with optimal components\n",
    "pca_reduced = PCA(n_components=n_components)\n",
    "X_pca_reduced = pca_reduced.fit_transform(X)\n",
    "\n",
    "# Display results\n",
    "print(f\"Shape of reduced data: {X_pca_reduced.shape}\")\n",
    "\n",
    "# Interpretation\n",
    "print(\"Interpretation: 95% variance is retained with\", n_components, \"components, reducing dimensionality while preserving stroke prediction patterns.\")\n"
   ]
  }
 ],
 "metadata": {
  "kernelspec": {
   "display_name": "Python 3",
   "language": "python",
   "name": "python3"
  },
  "language_info": {
   "codemirror_mode": {
    "name": "ipython",
    "version": 3
   },
   "file_extension": ".py",
   "mimetype": "text/x-python",
   "name": "python",
   "nbconvert_exporter": "python",
   "pygments_lexer": "ipython3",
   "version": "3.8"
  }
 },
 "nbformat": 4,
 "nbformat_minor": 2
}
