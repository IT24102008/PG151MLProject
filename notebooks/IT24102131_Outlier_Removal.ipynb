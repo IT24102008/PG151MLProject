{
 "cells": [
  {
   "cell_type": "code",
   "execution_count": null,
   "metadata": {},
   "outputs": [],
   "source": [
    "import pandas as pd\n",
    "import seaborn as sns\n",
    "import matplotlib.pyplot as plt\n",
    "import numpy as np\n",
    "\n",
    "# Load data\n",
    "df = pd.read_csv('/content/data/raw/StrokeData.csv')\n",
    "df['bmi'].fillna(df['bmi'].median(), inplace=True)  # Group task placeholder\n",
    "\n",
    "# Identify numerical columns for outlier removal\n",
    "numerical_cols = ['avg_glucose_level', 'bmi']\n",
    "\n",
    "# Visualize before\n",
    "plt.figure(figsize=(12, 5))\n",
    "for i, col in enumerate(numerical_cols):\n",
    "    plt.subplot(1, 2, i+1)\n",
    "    sns.boxplot(x=df[col])\n",
    "    plt.title(f'Box plot of {col} before outlier handling')\n",
    "plt.tight_layout()\n",
    "plt.savefig('/content/results/eda_visualizations/before_outlier_box.png')\n",
    "plt.show()\n",
    "\n",
    "# IQR method to cap outliers\n",
    "df_cleaned = df.copy()\n",
    "for col in numerical_cols:\n",
    "    Q1 = df_cleaned[col].quantile(0.25)\n",
    "    Q3 = df_cleaned[col].quantile(0.75)\n",
    "    IQR = Q3 - Q1\n",
    "    lower_bound = Q1 - 1.5 * IQR\n",
    "    upper_bound = Q3 + 1.5 * IQR\n",
    "    outliers = df_cleaned[(df_cleaned[col] < lower_bound) | (df_cleaned[col] > upper_bound)]\n",
    "    print(f\"{col} - Outliers detected: {len(outliers)}\")\n",
    "    df_cleaned[col] = df_cleaned[col].clip(lower_bound, upper_bound)\n",
    "\n",
    "# Visualize after\n",
    "plt.figure(figsize=(12, 5))\n",
    "for i, col in enumerate(numerical_cols):\n",
    "    plt.subplot(1, 2, i+1)\n",
    "    sns.boxplot(x=df_cleaned[col])\n",
    "    plt.title(f'Box plot of {col} after outlier handling')\n",
    "plt.tight_layout()\n",
    "plt.savefig('/content/results/eda_visualizations/after_outlier_box.png')\n",
    "plt.show()\n",
    "\n",
    "# Interpretation\n",
    "print(\"Interpretation: Capping 627 glucose and 126 bmi outliers reduces variance, retaining high-risk cases for better model fit.\")\n"
   ]
  }
 ],
 "metadata": {
  "kernelspec": {
   "display_name": "Python 3",
   "language": "python",
   "name": "python3"
  },
  "language_info": {
   "codemirror_mode": {
    "name": "ipython",
    "version": 3
   },
   "file_extension": ".py",
   "mimetype": "text/x-python",
   "name": "python",
   "nbconvert_exporter": "python",
   "pygments_lexer": "ipython3",
   "version": "3.8"
  }
 },
 "nbformat": 4,
 "nbformat_minor": 2
}
