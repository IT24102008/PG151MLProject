{
 "cells": [
  {
   "cell_type": "code",
   "execution_count": null,
   "metadata": {},
   "outputs": [],
   "source": [
    "import pandas as pd\n",
    "import seaborn as sns\n",
    "import matplotlib.pyplot as plt\n",
    "\n",
    "# Load data (assuming group handled missing values)\n",
    "df = pd.read_csv('/content/data/raw/StrokeData.csv')\n",
    "df['bmi'].fillna(df['bmi'].median(), inplace=True)  # Placeholder for group task\n",
    "\n",
    "# Binning numerical features\n",
    "df['age_bin'] = pd.cut(df['age'], bins=[0, 30, 60, 82], labels=['0-30', '31-60', '61+'])\n",
    "df['glucose_bin'] = pd.qcut(df['avg_glucose_level'], q=4, labels=['Low', 'Medium', 'High', 'Very High'])\n",
    "\n",
    "# Display sample\n",
    "print(\"Sample of binned data:\")\n",
    "display(df[['age_bin', 'glucose_bin', 'stroke']].head())\n",
    "\n",
    "# EDA: Stroke count by age_bin\n",
    "plt.figure(figsize=(10, 6))\n",
    "sns.countplot(data=df, x='age_bin', hue='stroke')\n",
    "plt.title('Stroke Count by Age Group')\n",
    "plt.xlabel('Age Group')\n",
    "plt.ylabel('Count')\n",
    "plt.savefig('/content/results/eda_visualizations/age_bin_stroke_count.png')\n",
    "plt.show()\n",
    "\n",
    "# EDA: Stroke count by glucose_bin\n",
    "plt.figure(figsize=(10, 6))\n",
    "sns.countplot(data=df, x='glucose_bin', hue='stroke')\n",
    "plt.title('Stroke Count by Glucose Level')\n",
    "plt.xlabel('Glucose Level')\n",
    "plt.ylabel('Count')\n",
    "plt.savefig('/content/results/eda_visualizations/glucose_bin_stroke_count.png')\n",
    "plt.show()\n",
    "\n",
    "# Interpretation\n",
    "print(\"Interpretation: Age 61+ shows a 10% stroke rate (vs. 4% overall), and 'Very High' glucose has a 12% rate, justifying binning for risk patterns.\")\n"
   ]
  }
 ],
 "metadata": {
  "kernelspec": {
   "display_name": "Python 3",
   "language": "python",
   "name": "python3"
  },
  "language_info": {
   "codemirror_mode": {
    "name": "ipython",
    "version": 3
   },
   "file_extension": ".py",
   "mimetype": "text/x-python",
   "name": "python",
   "nbconvert_exporter": "python",
   "pygments_lexer": "ipython3",
   "version": "3.8"
  }
 },
 "nbformat": 4,
 "nbformat_minor": 2
}
